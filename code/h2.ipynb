{
 "cells": [
  {
   "cell_type": "code",
   "execution_count": 22,
   "outputs": [
    {
     "name": "stdout",
     "output_type": "stream",
     "text": [
      "Results Summary:\n",
      "noXAI: 88 correct, 77 wrong\n",
      "withXAI: 109 correct, 56 wrong\n"
     ]
    }
   ],
   "source": [
    "import os\n",
    "import json\n",
    "\n",
    "folder_path = \"s3_real_fake\" \n",
    "\n",
    "\n",
    "results = {\n",
    "    \"noXAI\": {\"correct\": 0, \"wrong\": 0},\n",
    "    \"withXAI\": {\"correct\": 0, \"wrong\": 0}\n",
    "}\n",
    "\n",
    "for filename in os.listdir(folder_path):\n",
    "    if filename.endswith(\".json\"):\n",
    "        with open(os.path.join(folder_path, filename), \"r\") as file:\n",
    "            data = json.load(file)\n",
    "            for condition in [\"noXAI\", \"withXAI\"]:\n",
    "                for item in data[condition]:\n",
    "                    image_path = item[\"imageName\"]\n",
    "                    choice = item[\"choice\"].lower()\n",
    "                    ground_truth = \"fake\" if image_path.startswith(\"fake_images/\") else \"real\"\n",
    "                    if choice == ground_truth:\n",
    "                        results[condition][\"correct\"] += 1\n",
    "                    else:\n",
    "                        results[condition][\"wrong\"] += 1\n",
    "\n",
    "\n",
    "print(\"Results Summary:\")\n",
    "for condition in [\"noXAI\", \"withXAI\"]:\n",
    "    print(f\"{condition}: {results[condition]['correct']} correct, {results[condition]['wrong']} wrong\")\n"
   ],
   "metadata": {
    "collapsed": false,
    "ExecuteTime": {
     "end_time": "2025-04-23T01:58:23.565246700Z",
     "start_time": "2025-04-23T01:58:23.547410500Z"
    }
   },
   "id": "e129cade54f040a0"
  },
  {
   "cell_type": "code",
   "execution_count": 25,
   "outputs": [
    {
     "name": "stdout",
     "output_type": "stream",
     "text": [
      "0.5333333333333333\n"
     ]
    }
   ],
   "source": [
    "correct_noXAI = results[\"noXAI\"][\"correct\"]\n",
    "total_noXAI = correct_noXAI + results[\"noXAI\"][\"wrong\"]\n",
    "print(correct_noXAI/total_noXAI)"
   ],
   "metadata": {
    "collapsed": false,
    "ExecuteTime": {
     "end_time": "2025-04-23T02:15:44.337921400Z",
     "start_time": "2025-04-23T02:15:44.321208Z"
    }
   },
   "id": "57e0d232fd9ebe44"
  },
  {
   "cell_type": "code",
   "execution_count": 26,
   "outputs": [
    {
     "name": "stdout",
     "output_type": "stream",
     "text": [
      "0.6606060606060606\n"
     ]
    }
   ],
   "source": [
    "correct_withXAI = results[\"withXAI\"][\"correct\"]\n",
    "total_withXAI = correct_withXAI + results[\"withXAI\"][\"wrong\"]\n",
    "print(correct_withXAI/total_withXAI)"
   ],
   "metadata": {
    "collapsed": false,
    "ExecuteTime": {
     "end_time": "2025-04-23T02:16:00.973519600Z",
     "start_time": "2025-04-23T02:16:00.964610900Z"
    }
   },
   "id": "f8d10a85857542dc"
  },
  {
   "cell_type": "code",
   "execution_count": 24,
   "outputs": [
    {
     "name": "stdout",
     "output_type": "stream",
     "text": [
      "\n",
      "Statistical Test (Two-Proportion Z-Test):\n",
      "Z-statistic: -2.357\n",
      "P-value: 0.0184\n",
      "Statistically significant difference in accuracy with XAI.\n"
     ]
    }
   ],
   "source": [
    "from statsmodels.stats.proportion import proportions_ztest\n",
    "\n",
    "correct_noXAI = results[\"noXAI\"][\"correct\"]\n",
    "total_noXAI = correct_noXAI + results[\"noXAI\"][\"wrong\"]\n",
    "\n",
    "correct_withXAI = results[\"withXAI\"][\"correct\"]\n",
    "total_withXAI = correct_withXAI + results[\"withXAI\"][\"wrong\"]\n",
    "\n",
    "# Run two-proportion z-test\n",
    "counts = [correct_noXAI, correct_withXAI]\n",
    "nobs = [total_noXAI, total_withXAI]\n",
    "\n",
    "z_stat, p_value = proportions_ztest(counts, nobs)\n",
    "\n",
    "# Results\n",
    "print(\"\\nStatistical Test (Two-Proportion Z-Test):\")\n",
    "print(f\"Z-statistic: {z_stat:.3f}\")\n",
    "print(f\"P-value: {p_value:.4f}\")\n",
    "\n",
    "if p_value < 0.05:\n",
    "    print(\"Statistically significant difference in accuracy with XAI.\")\n",
    "else:\n",
    "    print(\"No statistically significant difference in accuracy with XAI.\")\n"
   ],
   "metadata": {
    "collapsed": false,
    "ExecuteTime": {
     "end_time": "2025-04-23T01:58:35.649043Z",
     "start_time": "2025-04-23T01:58:35.636803600Z"
    }
   },
   "id": "1026ac2185d71f23"
  },
  {
   "cell_type": "code",
   "execution_count": null,
   "outputs": [],
   "source": [],
   "metadata": {
    "collapsed": false
   },
   "id": "3528e704caa5e51f"
  }
 ],
 "metadata": {
  "kernelspec": {
   "display_name": "Python 3",
   "language": "python",
   "name": "python3"
  },
  "language_info": {
   "codemirror_mode": {
    "name": "ipython",
    "version": 2
   },
   "file_extension": ".py",
   "mimetype": "text/x-python",
   "name": "python",
   "nbconvert_exporter": "python",
   "pygments_lexer": "ipython2",
   "version": "2.7.6"
  }
 },
 "nbformat": 4,
 "nbformat_minor": 5
}
