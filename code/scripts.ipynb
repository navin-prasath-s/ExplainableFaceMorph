{
 "cells": [
  {
   "cell_type": "code",
   "execution_count": 17,
   "outputs": [
    {
     "name": "stdout",
     "output_type": "stream",
     "text": [
      "Resized 29 images to 256x256.\n"
     ]
    }
   ],
   "source": [
    "from PIL import Image\n",
    "import os\n",
    "import glob\n",
    "\n",
    "# Set your folder path\n",
    "folder_path = 'dd/fake3'  # replace with your actual folder path\n",
    "\n",
    "# Get all .jpg images\n",
    "image_files = glob.glob(os.path.join(folder_path, '*.png'))\n",
    "\n",
    "# Resize and overwrite\n",
    "for file_path in image_files:\n",
    "    with Image.open(file_path) as img:\n",
    "        img = img.resize((256, 256))\n",
    "        img.save(file_path)  # overwrite the image\n",
    "\n",
    "print(f\"Resized {len(image_files)} images to 256x256.\")\n"
   ],
   "metadata": {
    "collapsed": false,
    "ExecuteTime": {
     "end_time": "2025-04-14T09:57:09.569712900Z",
     "start_time": "2025-04-14T09:57:09.046304500Z"
    }
   },
   "id": "2001150e0a066e22"
  },
  {
   "cell_type": "code",
   "execution_count": 16,
   "outputs": [
    {
     "name": "stdout",
     "output_type": "stream",
     "text": [
      "Converted and replaced: 02501.jpg → 02501.png\n",
      "Converted and replaced: 02502.jpg → 02502.png\n",
      "Converted and replaced: 02503.jpg → 02503.png\n",
      "Converted and replaced: 02506.jpg → 02506.png\n",
      "Converted and replaced: 02507.jpg → 02507.png\n",
      "Converted and replaced: 02508.jpg → 02508.png\n",
      "Converted and replaced: 02509.jpg → 02509.png\n",
      "Converted and replaced: 02510.jpg → 02510.png\n",
      "Converted and replaced: 02511.jpg → 02511.png\n",
      "Converted and replaced: 02513.jpg → 02513.png\n",
      "Converted and replaced: 02514.jpg → 02514.png\n",
      "Converted and replaced: 02515.jpg → 02515.png\n",
      "Converted and replaced: 02516.jpg → 02516.png\n",
      "Converted and replaced: 02519.jpg → 02519.png\n",
      "Converted and replaced: 02520.jpg → 02520.png\n",
      "Converted and replaced: 02521.jpg → 02521.png\n",
      "Converted and replaced: 02522.jpg → 02522.png\n",
      "Converted and replaced: 02523.jpg → 02523.png\n",
      "Converted and replaced: 02524.jpg → 02524.png\n",
      "Converted and replaced: 02525.jpg → 02525.png\n",
      "Converted and replaced: 02526.jpg → 02526.png\n",
      "Converted and replaced: 02527.jpg → 02527.png\n",
      "Converted and replaced: 02528.jpg → 02528.png\n",
      "Converted and replaced: 02529.jpg → 02529.png\n",
      "Converted and replaced: 02530.jpg → 02530.png\n",
      "Converted and replaced: 02531.jpg → 02531.png\n",
      "Converted and replaced: 02533.jpg → 02533.png\n",
      "Converted and replaced: 02535.jpg → 02535.png\n",
      "Converted and replaced: 02536.jpg → 02536.png\n"
     ]
    }
   ],
   "source": [
    "from PIL import Image\n",
    "import os\n",
    "\n",
    "def convert_images_to_png(folder_path):\n",
    "    supported_extensions = ('.webp', '.jpg', '.jpeg')\n",
    "\n",
    "    for filename in os.listdir(folder_path):\n",
    "        file_lower = filename.lower()\n",
    "        if file_lower.endswith(supported_extensions):\n",
    "            input_path = os.path.join(folder_path, filename)\n",
    "            file_base = os.path.splitext(filename)[0]\n",
    "            output_path = os.path.join(folder_path, f\"{file_base}.png\")\n",
    "\n",
    "            try:\n",
    "                with Image.open(input_path) as img:\n",
    "                    img = img.convert(\"RGBA\")\n",
    "                    img.save(output_path, \"PNG\")\n",
    "                    os.remove(input_path)  # remove the original file\n",
    "                    print(f\"Converted and replaced: {filename} → {file_base}.png\")\n",
    "            except Exception as e:\n",
    "                print(f\"Failed to convert {filename}: {e}\")\n",
    "\n",
    "convert_images_to_png(\"dd/real3\")\n"
   ],
   "metadata": {
    "collapsed": false,
    "ExecuteTime": {
     "end_time": "2025-04-14T09:56:38.364849400Z",
     "start_time": "2025-04-14T09:56:38.096501300Z"
    }
   },
   "id": "286dc044c97e968d"
  },
  {
   "cell_type": "code",
   "execution_count": 19,
   "outputs": [
    {
     "name": "stdout",
     "output_type": "stream",
     "text": [
      "Renamed: 02501.png → real_image_61.png\n",
      "Renamed: 02502.png → real_image_62.png\n",
      "Renamed: 02503.png → real_image_63.png\n",
      "Renamed: 02506.png → real_image_64.png\n",
      "Renamed: 02507.png → real_image_65.png\n",
      "Renamed: 02508.png → real_image_66.png\n",
      "Renamed: 02509.png → real_image_67.png\n",
      "Renamed: 02510.png → real_image_68.png\n",
      "Renamed: 02511.png → real_image_69.png\n",
      "Renamed: 02513.png → real_image_70.png\n",
      "Renamed: 02514.png → real_image_71.png\n",
      "Renamed: 02515.png → real_image_72.png\n",
      "Renamed: 02516.png → real_image_73.png\n",
      "Renamed: 02519.png → real_image_74.png\n",
      "Renamed: 02520.png → real_image_75.png\n",
      "Renamed: 02521.png → real_image_76.png\n",
      "Renamed: 02522.png → real_image_77.png\n",
      "Renamed: 02523.png → real_image_78.png\n",
      "Renamed: 02524.png → real_image_79.png\n",
      "Renamed: 02525.png → real_image_80.png\n",
      "Renamed: 02526.png → real_image_81.png\n",
      "Renamed: 02527.png → real_image_82.png\n",
      "Renamed: 02528.png → real_image_83.png\n",
      "Renamed: 02529.png → real_image_84.png\n",
      "Renamed: 02530.png → real_image_85.png\n",
      "Renamed: 02531.png → real_image_86.png\n",
      "Renamed: 02533.png → real_image_87.png\n",
      "Renamed: 02535.png → real_image_88.png\n",
      "Renamed: 02536.png → real_image_89.png\n"
     ]
    }
   ],
   "source": [
    "import os\n",
    "\n",
    "def rename_images_sequentially(folder_path):\n",
    "    # List all files in the folder\n",
    "    images = [f for f in os.listdir(folder_path) if f.lower().endswith(('.png', '.jpg', '.jpeg', '.webp'))]\n",
    "\n",
    "    # Sort files to ensure sequential order\n",
    "    images.sort()\n",
    "\n",
    "    for index, filename in enumerate(images, start=1):\n",
    "        old_path = os.path.join(folder_path, filename)\n",
    "        \n",
    "        # New file name: 1.png, 2.png, ...\n",
    "        new_filename = f\"real_image_{index+60}.png\"\n",
    "        new_path = os.path.join(folder_path, new_filename)\n",
    "\n",
    "        # Rename the file\n",
    "        os.rename(old_path, new_path)\n",
    "        print(f\"Renamed: {filename} → {new_filename}\")\n",
    "\n",
    "rename_images_sequentially(\"dd/real3\")\n"
   ],
   "metadata": {
    "collapsed": false,
    "ExecuteTime": {
     "end_time": "2025-04-14T09:58:18.863908900Z",
     "start_time": "2025-04-14T09:58:18.858815200Z"
    }
   },
   "id": "b65c6f6097c04ed3"
  },
  {
   "cell_type": "code",
   "execution_count": 20,
   "outputs": [
    {
     "name": "stdout",
     "output_type": "stream",
     "text": [
      "Renamed: fake_image_1.png -> image_1.png\n",
      "Renamed: fake_image_10.png -> image_10.png\n",
      "Renamed: fake_image_2.png -> image_2.png\n",
      "Renamed: fake_image_3.png -> image_3.png\n",
      "Renamed: fake_image_4.png -> image_4.png\n",
      "Renamed: fake_image_5.png -> image_5.png\n",
      "Renamed: fake_image_6.png -> image_6.png\n",
      "Renamed: fake_image_7.png -> image_7.png\n",
      "Renamed: fake_image_8.png -> image_8.png\n",
      "Renamed: fake_image_9.png -> image_9.png\n",
      "Renaming process completed.\n"
     ]
    }
   ],
   "source": [
    "import os\n",
    "\n",
    "# Specify the directory path\n",
    "directory = \"dd/S3/Mask Images\"  # Replace with your directory path\n",
    "\n",
    "# Check if directory exists\n",
    "if not os.path.isdir(directory):\n",
    "    print(f\"Error: '{directory}' is not a valid directory.\")\n",
    "else:\n",
    "    # Iterate through all files in the directory\n",
    "    for filename in os.listdir(directory):\n",
    "        # Check if the file starts with 'fake_image_' and ends with '.png'\n",
    "        if filename.startswith('fake_image_') and filename.endswith('.png'):\n",
    "            # Construct the new filename\n",
    "            new_filename = filename.replace('fake_image_', 'image_')\n",
    "            \n",
    "            # Create full file paths\n",
    "            old_file = os.path.join(directory, filename)\n",
    "            new_file = os.path.join(directory, new_filename)\n",
    "            \n",
    "            # Rename the file\n",
    "            os.rename(old_file, new_file)\n",
    "            print(f\"Renamed: {filename} -> {new_filename}\")\n",
    "    \n",
    "    print(\"Renaming process completed.\")"
   ],
   "metadata": {
    "collapsed": false,
    "ExecuteTime": {
     "end_time": "2025-04-14T11:24:23.003888200Z",
     "start_time": "2025-04-14T11:24:22.989511300Z"
    }
   },
   "id": "e317837cee0a854b"
  },
  {
   "cell_type": "code",
   "execution_count": null,
   "outputs": [],
   "source": [],
   "metadata": {
    "collapsed": false
   },
   "id": "ca9ee08a601dabac"
  }
 ],
 "metadata": {
  "kernelspec": {
   "display_name": "Python 3",
   "language": "python",
   "name": "python3"
  },
  "language_info": {
   "codemirror_mode": {
    "name": "ipython",
    "version": 2
   },
   "file_extension": ".py",
   "mimetype": "text/x-python",
   "name": "python",
   "nbconvert_exporter": "python",
   "pygments_lexer": "ipython2",
   "version": "2.7.6"
  }
 },
 "nbformat": 4,
 "nbformat_minor": 5
}
