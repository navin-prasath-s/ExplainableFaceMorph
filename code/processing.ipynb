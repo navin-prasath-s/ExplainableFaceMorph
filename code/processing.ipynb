{
 "cells": [
  {
   "cell_type": "code",
   "execution_count": 1,
   "id": "initial_id",
   "metadata": {
    "collapsed": true,
    "ExecuteTime": {
     "end_time": "2025-04-23T00:35:12.040267200Z",
     "start_time": "2025-04-23T00:35:11.729243700Z"
    }
   },
   "outputs": [],
   "source": [
    "import numpy as np\n",
    "import matplotlib.pyplot as plt\n",
    "import matplotlib.cm as cm\n",
    "\n",
    "\n",
    "def create_heatmap_mask(heatmap_path, threshold):\n",
    "    \"\"\"\n",
    "    Creates a binary mask from a heatmap image using a specified threshold.\n",
    "\n",
    "    Args:\n",
    "        heatmap_path (str): Path to the heatmap image\n",
    "        threshold (float): Threshold value between 0 and 1 for masking\n",
    "\n",
    "    Returns:\n",
    "        numpy.ndarray: Binary mask (0 for warmer areas, 1 for cooler areas)\n",
    "    \"\"\"\n",
    "    # Load the heatmap\n",
    "    heatmap = plt.imread(heatmap_path)\n",
    "\n",
    "    # If heatmap is RGB (from 'jet_r' colormap), convert to intensity\n",
    "    if len(heatmap.shape) == 3:\n",
    "        # Get the 'jet_r' colormap\n",
    "        jet_r = cm.get_cmap('jet_r')\n",
    "        \n",
    "        # Normalize RGB values to [0, 1] if not already\n",
    "        heatmap_rgb = heatmap[:, :, :3]  # Ignore alpha channel if present\n",
    "        \n",
    "        # Initialize intensity array\n",
    "        intensity = np.zeros(heatmap.shape[:2])\n",
    "        \n",
    "        # Compare each pixel to colormap values\n",
    "        colormap_values = jet_r(np.linspace(0, 1, 256))[:, :3]  # RGB values of colormap\n",
    "        for i in range(heatmap.shape[0]):\n",
    "            for j in range(heatmap.shape[1]):\n",
    "                # Find closest colormap value to the pixel's RGB\n",
    "                pixel_rgb = heatmap_rgb[i, j]\n",
    "                distances = np.sum((colormap_values - pixel_rgb) ** 2, axis=1)\n",
    "                closest_idx = np.argmin(distances)\n",
    "                # Map to intensity (0 to 1)\n",
    "                intensity[i, j] = closest_idx / 255.0\n",
    "        \n",
    "        heatmap = intensity\n",
    "    else:\n",
    "        # Assume single-channel heatmap (grayscale/intensity)\n",
    "        heatmap = heatmap / np.max(heatmap)\n",
    "\n",
    "    # Ensure heatmap is normalized to [0, 1]\n",
    "    heatmap = heatmap / np.max(heatmap)\n",
    "\n",
    "    # Create binary mask: warmer areas (above threshold) = 0, cooler areas (below) = 1\n",
    "    mask = np.where(heatmap > threshold, 0, 1)\n",
    "\n",
    "    return mask"
   ]
  },
  {
   "cell_type": "code",
   "execution_count": 2,
   "outputs": [
    {
     "name": "stderr",
     "output_type": "stream",
     "text": [
      "C:\\Users\\snavi\\AppData\\Local\\Temp\\ipykernel_23620\\3927195226.py:23: MatplotlibDeprecationWarning: The get_cmap function was deprecated in Matplotlib 3.7 and will be removed in 3.11. Use ``matplotlib.colormaps[name]`` or ``matplotlib.colormaps.get_cmap()`` or ``pyplot.get_cmap()`` instead.\n",
      "  jet_r = cm.get_cmap('jet_r')\n"
     ]
    },
    {
     "data": {
      "text/plain": "<Figure size 640x480 with 1 Axes>",
      "image/png": "[encoded data removed]"
     },
     "metadata": {},
     "output_type": "display_data"
    }
   ],
   "source": [
    "folder_name = f\"dd/S3/Mask Images Meta/\"\n",
    "image_name=f\"fake_image_10_map\"\n",
    "ext = f\".png\"\n",
    "\n",
    "threshold = 0.3\n",
    "image_path = f\"{folder_name}{image_name}{ext}\"\n",
    "mask = create_heatmap_mask(image_path, threshold)\n",
    "plt.imshow(mask, cmap='gray')\n",
    "plt.title(f\"Thresholded Mask (threshold={threshold})\")\n",
    "plt.show()"
   ],
   "metadata": {
    "collapsed": false,
    "ExecuteTime": {
     "end_time": "2025-04-23T00:35:13.213205400Z",
     "start_time": "2025-04-23T00:35:12.397727400Z"
    }
   },
   "id": "8c43f037ccac19c1"
  },
  {
   "cell_type": "code",
   "execution_count": 3,
   "outputs": [],
   "source": [
    "mask_path = f\"{folder_name}{image_name}_gcam{ext}\"\n",
    "plt.imsave(mask_path, mask, cmap='gray')"
   ],
   "metadata": {
    "collapsed": false,
    "ExecuteTime": {
     "end_time": "2025-04-23T00:35:13.728035700Z",
     "start_time": "2025-04-23T00:35:13.722718600Z"
    }
   },
   "id": "ecb7877cabdf8f46"
  },
  {
   "cell_type": "code",
   "execution_count": 4,
   "outputs": [],
   "source": [
    "import json\n",
    "import matplotlib.pyplot as plt\n",
    "\n",
    "\n",
    "folder_name = f\"dd/S3/Mask Images Meta/\"\n",
    "image_name=f\"fake_image_1_gt\"\n",
    "\n",
    "# Path to the JSON file\n",
    "json_path = f\"{folder_name}{image_name}.json\" \n",
    "\n",
    "# Load JSON file\n",
    "with open(json_path, 'r') as f:\n",
    "    data = json.load(f)\n",
    "\n",
    "# Convert to NumPy array\n",
    "bw_image = np.array(data[\"mask\"], dtype=np.uint8)\n",
    "plt.imsave(f\"{folder_name}{image_name}.png\", bw_image, cmap='gray')\n",
    "\n",
    "\n"
   ],
   "metadata": {
    "collapsed": false,
    "ExecuteTime": {
     "end_time": "2025-04-23T00:35:14.880656500Z",
     "start_time": "2025-04-23T00:35:14.866434100Z"
    }
   },
   "id": "2d11949e3601e1cc"
  },
  {
   "cell_type": "code",
   "execution_count": 5,
   "outputs": [],
   "source": [
    "import json\n",
    "import matplotlib.pyplot as plt\n",
    "import numpy as np  # Make sure this is imported!\n",
    "\n",
    "folder_name = \"dd/S3/Mask Images Meta/\"\n",
    "\n",
    "# Iterate from 0 to 10\n",
    "for i in range(1, 11):\n",
    "    image_name = f\"fake_image_{i}_gt\"\n",
    "    json_path = f\"{folder_name}{image_name}.json\"\n",
    "    \n",
    "    # Load JSON file\n",
    "    with open(json_path, 'r') as f:\n",
    "        data = json.load(f)\n",
    "    \n",
    "    # Convert to NumPy array\n",
    "    bw_image = np.array(data[\"mask\"], dtype=np.uint8)\n",
    "\n",
    "    # Save image\n",
    "    output_path = f\"{folder_name}{image_name}.png\"\n",
    "    plt.imsave(output_path, bw_image, cmap='gray')\n"
   ],
   "metadata": {
    "collapsed": false,
    "ExecuteTime": {
     "end_time": "2025-04-23T00:35:16.190515100Z",
     "start_time": "2025-04-23T00:35:16.103547100Z"
    }
   },
   "id": "fe5cba43518d079c"
  },
  {
   "cell_type": "code",
   "execution_count": null,
   "outputs": [],
   "source": [],
   "metadata": {
    "collapsed": false
   },
   "id": "5599b328834b2f57"
  }
 ],
 "metadata": {
  "kernelspec": {
   "display_name": "Python 3",
   "language": "python",
   "name": "python3"
  },
  "language_info": {
   "codemirror_mode": {
    "name": "ipython",
    "version": 2
   },
   "file_extension": ".py",
   "mimetype": "text/x-python",
   "name": "python",
   "nbconvert_exporter": "python",
   "pygments_lexer": "ipython2",
   "version": "2.7.6"
  }
 },
 "nbformat": 4,
 "nbformat_minor": 5
}
