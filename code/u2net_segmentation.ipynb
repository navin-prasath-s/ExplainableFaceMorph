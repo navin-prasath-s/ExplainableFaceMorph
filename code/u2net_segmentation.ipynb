{
 "cells": [
  {
   "cell_type": "code",
   "execution_count": 11,
   "id": "initial_id",
   "metadata": {
    "collapsed": true,
    "ExecuteTime": {
     "end_time": "2025-04-28T11:12:13.025453900Z",
     "start_time": "2025-04-28T11:12:13.019401200Z"
    }
   },
   "outputs": [
    {
     "name": "stdout",
     "output_type": "stream",
     "text": [
      "cuda\n"
     ]
    }
   ],
   "source": [
    "import random\n",
    "import os\n",
    "import torch\n",
    "import torch.nn as nn\n",
    "import torch.optim as optim\n",
    "from torchvision import datasets, transforms\n",
    "from torch.utils.data import Subset, DataLoader\n",
    "from tqdm import tqdm\n",
    "from sklearn.metrics import precision_score, recall_score\n",
    "from rembg import remove\n",
    "from PIL import Image\n",
    "\n",
    "DEVICE = torch.device(\"cuda\" if torch.cuda.is_available() else \"cpu\")\n",
    "print(DEVICE)"
   ]
  },
  {
   "cell_type": "code",
   "execution_count": 9,
   "outputs": [],
   "source": [
    "DATA_DIR = \"../dataset\" \n",
    "MODEL_DIR = \"../models\""
   ],
   "metadata": {
    "collapsed": false,
    "ExecuteTime": {
     "end_time": "2025-04-28T10:41:04.821909300Z",
     "start_time": "2025-04-28T10:41:04.819397600Z"
    }
   },
   "id": "339d7ef8d766839d"
  },
  {
   "cell_type": "code",
   "execution_count": 10,
   "outputs": [
    {
     "name": "stderr",
     "output_type": "stream",
     "text": [
      "Downloading data from 'https://github.com/danielgatis/rembg/releases/download/v0.0.0/u2net.onnx' to file 'C:\\Users\\snavi\\.u2net\\u2net.onnx'.\n",
      "100%|########################################| 176M/176M [00:00<00:00, 117GB/s]\n"
     ]
    }
   ],
   "source": [
    "input_path = f'{DATA_DIR}/fake/001_08_q32.jpg'\n",
    "output_path = 'output.png'\n",
    "\n",
    "input = Image.open(input_path)\n",
    "output = remove(input)\n",
    "output.save(output_path)"
   ],
   "metadata": {
    "collapsed": false,
    "ExecuteTime": {
     "end_time": "2025-04-28T10:56:39.225840700Z",
     "start_time": "2025-04-28T10:56:14.015375700Z"
    }
   },
   "id": "9207075cbeeaa951"
  },
  {
   "cell_type": "code",
   "execution_count": 20,
   "outputs": [],
   "source": [
    "def batch_remove(input_dir, output_dir):\n",
    "    # Create output directory if it doesn't exist\n",
    "    os.makedirs(output_dir, exist_ok=True)\n",
    "\n",
    "    # Supported image extensions\n",
    "    image_extensions = ('.jpg', '.jpeg', '.png', '.bmp', '.tiff')\n",
    "\n",
    "    # Loop over all files in input_dir\n",
    "    for filename in os.listdir(input_dir):\n",
    "        if filename.lower().endswith(image_extensions):\n",
    "            input_path = os.path.join(input_dir, filename)\n",
    "            output_path = os.path.join(output_dir, filename)\n",
    "\n",
    "            try:\n",
    "                input_image = Image.open(input_path)\n",
    "                output_image = remove(input_image)  # your remove() function\n",
    "                if output_image.mode == 'RGBA':\n",
    "                   output_image = output_image.convert('RGB')\n",
    "                output_image.save(output_path)\n",
    "                print(f\"Saved: {output_path}\")\n",
    "            except Exception as e:\n",
    "                print(f\"Failed to process {input_path}: {e}\")\n",
    "\n"
   ],
   "metadata": {
    "collapsed": false,
    "ExecuteTime": {
     "end_time": "2025-04-28T11:17:54.408563200Z",
     "start_time": "2025-04-28T11:17:54.406193900Z"
    }
   },
   "id": "56e14c8a9af78e99"
  },
  {
   "cell_type": "code",
   "execution_count": 21,
   "outputs": [
    {
     "name": "stdout",
     "output_type": "stream",
     "text": [
      "Saved: ../dataset/fake_segments/001_08_q32.jpg\n",
      "Saved: ../dataset/fake_segments/002_08_q54.jpg\n",
      "Saved: ../dataset/fake_segments/003_08_q43.jpg\n",
      "Saved: ../dataset/fake_segments/004_08_q51.jpg\n",
      "Saved: ../dataset/fake_segments/005_08_q54.jpg\n",
      "Saved: ../dataset/fake_segments/006_08_q51.jpg\n",
      "Saved: ../dataset/fake_segments/007_08_q45.jpg\n",
      "Saved: ../dataset/fake_segments/008_08_q54.jpg\n",
      "Saved: ../dataset/fake_segments/009_08_q57.jpg\n",
      "Saved: ../dataset/fake_segments/010_08_q62.jpg\n",
      "Saved: ../dataset/fake_segments/011_08_q63.jpg\n",
      "Saved: ../dataset/fake_segments/012_08_q54.jpg\n",
      "Saved: ../dataset/fake_segments/013_08_q35.jpg\n",
      "Saved: ../dataset/fake_segments/014_08_q53.jpg\n",
      "Saved: ../dataset/fake_segments/016_08_q61.jpg\n",
      "Saved: ../dataset/fake_segments/017_08_q62.jpg\n",
      "Saved: ../dataset/fake_segments/018_08_q58.jpg\n",
      "Saved: ../dataset/fake_segments/019_08_q62.jpg\n",
      "Saved: ../dataset/fake_segments/020_08_q41.jpg\n",
      "Saved: ../dataset/fake_segments/021_08_q70.jpg\n",
      "Saved: ../dataset/fake_segments/022_08_q51.jpg\n",
      "Saved: ../dataset/fake_segments/024_08_q63.jpg\n",
      "Saved: ../dataset/fake_segments/025_08_q43.jpg\n",
      "Saved: ../dataset/fake_segments/026_08_q59.jpg\n",
      "Saved: ../dataset/fake_segments/027_08_q60.jpg\n",
      "Saved: ../dataset/fake_segments/029_08_q48.jpg\n",
      "Saved: ../dataset/fake_segments/030_08_q53.jpg\n",
      "Saved: ../dataset/fake_segments/031_08_q62.jpg\n",
      "Saved: ../dataset/fake_segments/032_08_q60.jpg\n",
      "Saved: ../dataset/fake_segments/033_08_q51.jpg\n",
      "Saved: ../dataset/fake_segments/034_08_q58.jpg\n",
      "Saved: ../dataset/fake_segments/036_08_q44.jpg\n",
      "Saved: ../dataset/fake_segments/037_08_q59.jpg\n",
      "Saved: ../dataset/fake_segments/038_08_q59.jpg\n",
      "Saved: ../dataset/fake_segments/039_08_q43.jpg\n",
      "Saved: ../dataset/fake_segments/041_08_q43.jpg\n",
      "Saved: ../dataset/fake_segments/042_08_q67.jpg\n",
      "Saved: ../dataset/fake_segments/043_08_q67.jpg\n",
      "Saved: ../dataset/fake_segments/044_08_q51.jpg\n",
      "Saved: ../dataset/fake_segments/045_08_q47.jpg\n",
      "Saved: ../dataset/fake_segments/061_08_q68.jpg\n",
      "Saved: ../dataset/fake_segments/062_08_q40.jpg\n",
      "Saved: ../dataset/fake_segments/063_08_q60.jpg\n",
      "Saved: ../dataset/fake_segments/064_08_q48.jpg\n",
      "Saved: ../dataset/fake_segments/066_08_q51.jpg\n",
      "Saved: ../dataset/fake_segments/067_08_q47.jpg\n",
      "Saved: ../dataset/fake_segments/068_08_q62.jpg\n",
      "Saved: ../dataset/fake_segments/069_08_q37.jpg\n",
      "Saved: ../dataset/fake_segments/070_08_q51.jpg\n",
      "Saved: ../dataset/fake_segments/081_08_q58.jpg\n",
      "Saved: ../dataset/fake_segments/082_08_q65.jpg\n",
      "Saved: ../dataset/fake_segments/083_08_q60.jpg\n",
      "Saved: ../dataset/fake_segments/086_08_q51.jpg\n",
      "Saved: ../dataset/fake_segments/087_08_q55.jpg\n",
      "Saved: ../dataset/fake_segments/090_08_q59.jpg\n",
      "Saved: ../dataset/fake_segments/091_08_q54.jpg\n",
      "Saved: ../dataset/fake_segments/092_08_q38.jpg\n",
      "Saved: ../dataset/fake_segments/094_08_q52.jpg\n",
      "Saved: ../dataset/fake_segments/096_08_q54.jpg\n",
      "Saved: ../dataset/fake_segments/097_08_q56.jpg\n",
      "Saved: ../dataset/fake_segments/099_08_q60.jpg\n",
      "Saved: ../dataset/fake_segments/100_08_q60.jpg\n",
      "Saved: ../dataset/fake_segments/101_08_q54.jpg\n",
      "Saved: ../dataset/fake_segments/102_08_q61.jpg\n",
      "Saved: ../dataset/fake_segments/103_08_q58.jpg\n",
      "Saved: ../dataset/fake_segments/104_08_q47.jpg\n",
      "Saved: ../dataset/fake_segments/105_08_q60.jpg\n",
      "Saved: ../dataset/fake_segments/107_08_q57.jpg\n",
      "Saved: ../dataset/fake_segments/108_08_q48.jpg\n",
      "Saved: ../dataset/fake_segments/112_08_q45.jpg\n",
      "Saved: ../dataset/fake_segments/113_08_q51.jpg\n",
      "Saved: ../dataset/fake_segments/114_08_q60.jpg\n",
      "Saved: ../dataset/fake_segments/115_08_q45.jpg\n",
      "Saved: ../dataset/fake_segments/117_08_q56.jpg\n",
      "Saved: ../dataset/fake_segments/118_08_q60.jpg\n",
      "Saved: ../dataset/fake_segments/119_08_q60.jpg\n",
      "Saved: ../dataset/fake_segments/120_08_q46.jpg\n",
      "Saved: ../dataset/fake_segments/121_08_q64.jpg\n",
      "Saved: ../dataset/fake_segments/122_08_q62.jpg\n",
      "Saved: ../dataset/fake_segments/123_08_q34.jpg\n",
      "Saved: ../dataset/fake_segments/124_08_q55.jpg\n",
      "Saved: ../dataset/fake_segments/125_08_q64.jpg\n",
      "Saved: ../dataset/fake_segments/126_08_q64.jpg\n",
      "Saved: ../dataset/fake_segments/127_08_q60.jpg\n",
      "Saved: ../dataset/fake_segments/128_08_q48.jpg\n",
      "Saved: ../dataset/fake_segments/129_08_q42.jpg\n",
      "Saved: ../dataset/fake_segments/130_08_q57.jpg\n",
      "Saved: ../dataset/fake_segments/131_08_q54.jpg\n",
      "Saved: ../dataset/fake_segments/132_08_q59.jpg\n",
      "Saved: ../dataset/fake_segments/134_08_q52.jpg\n",
      "Saved: ../dataset/fake_segments/135_08_q50.jpg\n",
      "Saved: ../dataset/fake_segments/136_08_q48.jpg\n",
      "Saved: ../dataset/fake_segments/137_08_q67.jpg\n",
      "Saved: ../dataset/fake_segments/138_08_q60.jpg\n",
      "Saved: ../dataset/fake_segments/139_08_q54.jpg\n",
      "Saved: ../dataset/fake_segments/140_08_q58.jpg\n",
      "Saved: ../dataset/fake_segments/141_08_q56.jpg\n",
      "Saved: ../dataset/fake_segments/142_08_q62.jpg\n",
      "Saved: ../dataset/fake_segments/143_08_q48.jpg\n",
      "Saved: ../dataset/fake_segments/144_08_q54.jpg\n",
      "Saved: ../dataset/fake_segments/172_08_q67.jpg\n",
      "Saved: ../dataset/fake_segments/173_08_q44.jpg\n"
     ]
    }
   ],
   "source": [
    "input_path = f'{DATA_DIR}/fake/'\n",
    "output_path = f'{DATA_DIR}/fake_segments/'\n",
    "\n",
    "\n",
    "batch_remove(input_path, output_path)"
   ],
   "metadata": {
    "collapsed": false,
    "ExecuteTime": {
     "end_time": "2025-04-28T11:20:24.596694300Z",
     "start_time": "2025-04-28T11:17:54.547368800Z"
    }
   },
   "id": "b79b59ba151cc85"
  },
  {
   "cell_type": "code",
   "execution_count": 22,
   "outputs": [
    {
     "name": "stdout",
     "output_type": "stream",
     "text": [
      "Saved: ../dataset/real_segments/001_03_q30.jpg\n",
      "Saved: ../dataset/real_segments/002_03_q55.jpg\n",
      "Saved: ../dataset/real_segments/003_03_q43.jpg\n",
      "Saved: ../dataset/real_segments/004_03_q51.jpg\n",
      "Saved: ../dataset/real_segments/005_03_q55.jpg\n",
      "Saved: ../dataset/real_segments/006_03_q51.jpg\n",
      "Saved: ../dataset/real_segments/007_03_q45.jpg\n",
      "Saved: ../dataset/real_segments/008_03_q54.jpg\n",
      "Saved: ../dataset/real_segments/009_03_q60.jpg\n",
      "Saved: ../dataset/real_segments/010_03_q64.jpg\n",
      "Saved: ../dataset/real_segments/011_03_q61.jpg\n",
      "Saved: ../dataset/real_segments/012_03_q54.jpg\n",
      "Saved: ../dataset/real_segments/013_03_q33.jpg\n",
      "Saved: ../dataset/real_segments/014_03_q52.jpg\n",
      "Saved: ../dataset/real_segments/016_03_q62.jpg\n",
      "Saved: ../dataset/real_segments/017_03_q60.jpg\n",
      "Saved: ../dataset/real_segments/018_03_q58.jpg\n",
      "Saved: ../dataset/real_segments/019_03_q60.jpg\n",
      "Saved: ../dataset/real_segments/020_03_q41.jpg\n",
      "Saved: ../dataset/real_segments/021_03_q70.jpg\n",
      "Saved: ../dataset/real_segments/022_03_q55.jpg\n",
      "Saved: ../dataset/real_segments/024_03_q62.jpg\n",
      "Saved: ../dataset/real_segments/025_03_q43.jpg\n",
      "Saved: ../dataset/real_segments/026_03_q60.jpg\n",
      "Saved: ../dataset/real_segments/027_03_q64.jpg\n",
      "Saved: ../dataset/real_segments/029_03_q49.jpg\n",
      "Saved: ../dataset/real_segments/030_03_q54.jpg\n",
      "Saved: ../dataset/real_segments/031_03_q61.jpg\n",
      "Saved: ../dataset/real_segments/032_03_q61.jpg\n",
      "Saved: ../dataset/real_segments/033_03_q51.jpg\n",
      "Saved: ../dataset/real_segments/034_03_q60.jpg\n",
      "Saved: ../dataset/real_segments/036_03_q45.jpg\n",
      "Saved: ../dataset/real_segments/037_03_q59.jpg\n",
      "Saved: ../dataset/real_segments/038_03_q57.jpg\n",
      "Saved: ../dataset/real_segments/039_03_q42.jpg\n",
      "Saved: ../dataset/real_segments/041_03_q43.jpg\n",
      "Saved: ../dataset/real_segments/042_03_q64.jpg\n",
      "Saved: ../dataset/real_segments/043_03_q64.jpg\n",
      "Saved: ../dataset/real_segments/044_03_q51.jpg\n",
      "Saved: ../dataset/real_segments/045_03_q47.jpg\n",
      "Saved: ../dataset/real_segments/061_03_q69.jpg\n",
      "Saved: ../dataset/real_segments/062_03_q37.jpg\n",
      "Saved: ../dataset/real_segments/063_03_q60.jpg\n",
      "Saved: ../dataset/real_segments/064_03_q51.jpg\n",
      "Saved: ../dataset/real_segments/066_03_q51.jpg\n",
      "Saved: ../dataset/real_segments/067_03_q45.jpg\n",
      "Saved: ../dataset/real_segments/068_03_q60.jpg\n",
      "Saved: ../dataset/real_segments/069_03_q37.jpg\n",
      "Saved: ../dataset/real_segments/070_03_q54.jpg\n",
      "Saved: ../dataset/real_segments/081_03_q57.jpg\n",
      "Saved: ../dataset/real_segments/082_03_q65.jpg\n",
      "Saved: ../dataset/real_segments/083_03_q58.jpg\n",
      "Saved: ../dataset/real_segments/086_03_q51.jpg\n",
      "Saved: ../dataset/real_segments/087_03_q57.jpg\n",
      "Saved: ../dataset/real_segments/090_03_q60.jpg\n",
      "Saved: ../dataset/real_segments/091_03_q54.jpg\n",
      "Saved: ../dataset/real_segments/092_03_q38.jpg\n",
      "Saved: ../dataset/real_segments/094_03_q55.jpg\n",
      "Saved: ../dataset/real_segments/096_03_q59.jpg\n",
      "Saved: ../dataset/real_segments/097_03_q60.jpg\n",
      "Saved: ../dataset/real_segments/099_03_q62.jpg\n",
      "Saved: ../dataset/real_segments/100_03_q62.jpg\n",
      "Saved: ../dataset/real_segments/101_03_q55.jpg\n",
      "Saved: ../dataset/real_segments/102_03_q62.jpg\n",
      "Saved: ../dataset/real_segments/103_03_q60.jpg\n",
      "Saved: ../dataset/real_segments/104_03_q51.jpg\n",
      "Saved: ../dataset/real_segments/105_03_q60.jpg\n",
      "Saved: ../dataset/real_segments/107_03_q59.jpg\n",
      "Saved: ../dataset/real_segments/108_03_q46.jpg\n",
      "Saved: ../dataset/real_segments/112_03_q47.jpg\n",
      "Saved: ../dataset/real_segments/113_03_q51.jpg\n",
      "Saved: ../dataset/real_segments/114_03_q61.jpg\n",
      "Saved: ../dataset/real_segments/115_03_q47.jpg\n",
      "Saved: ../dataset/real_segments/117_03_q58.jpg\n",
      "Saved: ../dataset/real_segments/118_03_q62.jpg\n",
      "Saved: ../dataset/real_segments/119_03_q60.jpg\n",
      "Saved: ../dataset/real_segments/120_03_q51.jpg\n",
      "Saved: ../dataset/real_segments/121_03_q62.jpg\n",
      "Saved: ../dataset/real_segments/122_03_q63.jpg\n",
      "Saved: ../dataset/real_segments/123_03_q34.jpg\n",
      "Saved: ../dataset/real_segments/124_03_q53.jpg\n",
      "Saved: ../dataset/real_segments/125_03_q63.jpg\n",
      "Saved: ../dataset/real_segments/126_03_q64.jpg\n",
      "Saved: ../dataset/real_segments/127_03_q60.jpg\n",
      "Saved: ../dataset/real_segments/128_03_q45.jpg\n",
      "Saved: ../dataset/real_segments/129_03_q40.jpg\n",
      "Saved: ../dataset/real_segments/130_03_q58.jpg\n",
      "Saved: ../dataset/real_segments/131_03_q55.jpg\n",
      "Saved: ../dataset/real_segments/132_03_q58.jpg\n",
      "Saved: ../dataset/real_segments/134_03_q53.jpg\n",
      "Saved: ../dataset/real_segments/135_03_q51.jpg\n",
      "Saved: ../dataset/real_segments/136_03_q48.jpg\n",
      "Saved: ../dataset/real_segments/137_03_q67.jpg\n",
      "Saved: ../dataset/real_segments/138_03_q57.jpg\n",
      "Saved: ../dataset/real_segments/139_03_q53.jpg\n",
      "Saved: ../dataset/real_segments/140_03_q57.jpg\n",
      "Saved: ../dataset/real_segments/141_03_q56.jpg\n",
      "Saved: ../dataset/real_segments/142_03_q62.jpg\n",
      "Saved: ../dataset/real_segments/143_03_q46.jpg\n",
      "Saved: ../dataset/real_segments/144_03_q52.jpg\n",
      "Saved: ../dataset/real_segments/172_03_q67.jpg\n",
      "Saved: ../dataset/real_segments/173_03_q43.jpg\n"
     ]
    }
   ],
   "source": [
    "input_path = f'{DATA_DIR}/real/'\n",
    "output_path = f'{DATA_DIR}/real_segments/'\n",
    "\n",
    "\n",
    "batch_remove(input_path, output_path)"
   ],
   "metadata": {
    "collapsed": false,
    "ExecuteTime": {
     "end_time": "2025-04-28T11:23:05.515085200Z",
     "start_time": "2025-04-28T11:20:47.776116200Z"
    }
   },
   "id": "7784751816c6649b"
  },
  {
   "cell_type": "code",
   "execution_count": null,
   "outputs": [],
   "source": [],
   "metadata": {
    "collapsed": false
   },
   "id": "b81bf1bd125062be"
  }
 ],
 "metadata": {
  "kernelspec": {
   "display_name": "Python 3",
   "language": "python",
   "name": "python3"
  },
  "language_info": {
   "codemirror_mode": {
    "name": "ipython",
    "version": 2
   },
   "file_extension": ".py",
   "mimetype": "text/x-python",
   "name": "python",
   "nbconvert_exporter": "python",
   "pygments_lexer": "ipython2",
   "version": "2.7.6"
  }
 },
 "nbformat": 4,
 "nbformat_minor": 5
}
